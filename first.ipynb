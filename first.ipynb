{
 "cells": [
  {
   "cell_type": "code",
   "execution_count": 5,
   "metadata": {},
   "outputs": [],
   "source": [
    "from sklearn.linear_model import SGDRegressor\n",
    "import numpy as np"
   ]
  },
  {
   "cell_type": "code",
   "execution_count": 10,
   "metadata": {},
   "outputs": [
    {
     "name": "stdout",
     "output_type": "stream",
     "text": [
      "[1.00000000e-02 3.16227766e-02 1.00000000e-01 3.16227766e-01\n",
      " 1.00000000e+00 3.16227766e+00 1.00000000e+01 3.16227766e+01\n",
      " 1.00000000e+02]\n"
     ]
    }
   ],
   "source": [
    "print(np.logspace(-2,2,9))"
   ]
  },
  {
   "cell_type": "code",
   "execution_count": null,
   "metadata": {},
   "outputs": [],
   "source": []
  },
  {
   "cell_type": "code",
   "execution_count": 11,
   "metadata": {},
   "outputs": [
    {
     "name": "stdout",
     "output_type": "stream",
     "text": [
      "0\n",
      "new changes\n",
      "2\n",
      "new changes\n",
      "4\n",
      "new changes\n",
      "6\n",
      "new changes\n",
      "8\n",
      "new changes\n",
      "10\n",
      "new changes\n",
      "12\n",
      "new changes\n",
      "14\n",
      "new changes\n",
      "16\n",
      "new changes\n",
      "18\n",
      "new changes\n",
      "20\n",
      "new changes\n",
      "22\n",
      "new changes\n",
      "24\n",
      "new changes\n",
      "26\n",
      "new changes\n",
      "28\n",
      "new changes\n",
      "30\n",
      "new changes\n",
      "32\n",
      "new changes\n",
      "34\n",
      "new changes\n",
      "36\n",
      "new changes\n",
      "38\n",
      "new changes\n",
      "40\n",
      "new changes\n",
      "42\n",
      "new changes\n",
      "44\n",
      "new changes\n",
      "46\n",
      "new changes\n",
      "48\n",
      "new changes\n",
      "50\n",
      "new changes\n",
      "52\n",
      "new changes\n",
      "54\n",
      "new changes\n",
      "56\n",
      "new changes\n",
      "58\n",
      "new changes\n",
      "60\n",
      "new changes\n",
      "62\n",
      "new changes\n",
      "64\n",
      "new changes\n",
      "66\n",
      "new changes\n",
      "68\n",
      "new changes\n",
      "70\n",
      "new changes\n",
      "72\n",
      "new changes\n",
      "74\n",
      "new changes\n",
      "76\n",
      "new changes\n",
      "78\n",
      "new changes\n",
      "80\n",
      "new changes\n",
      "82\n",
      "new changes\n",
      "84\n",
      "new changes\n",
      "86\n",
      "new changes\n",
      "88\n",
      "new changes\n",
      "90\n",
      "new changes\n",
      "92\n",
      "new changes\n",
      "94\n",
      "new changes\n",
      "96\n",
      "new changes\n",
      "98\n",
      "new changes\n"
     ]
    }
   ],
   "source": [
    "4+4\n",
    "for i in range(0,100,2):\n",
    "    print(i) \n",
    "    print(\"new changes\")"
   ]
  },
  {
   "attachments": {},
   "cell_type": "markdown",
   "metadata": {},
   "source": [
    "# therefore"
   ]
  }
 ],
 "metadata": {
  "kernelspec": {
   "display_name": "Python 3",
   "language": "python",
   "name": "python3"
  },
  "language_info": {
   "codemirror_mode": {
    "name": "ipython",
    "version": 3
   },
   "file_extension": ".py",
   "mimetype": "text/x-python",
   "name": "python",
   "nbconvert_exporter": "python",
   "pygments_lexer": "ipython3",
   "version": "3.11.2"
  },
  "orig_nbformat": 4,
  "vscode": {
   "interpreter": {
    "hash": "c82094d9e419dd30f8c7f83c2b6f53672647a0e8ed96b2bda60943cdcb7cdb3a"
   }
  }
 },
 "nbformat": 4,
 "nbformat_minor": 2
}
